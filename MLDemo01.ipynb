{
  "cells": [
    {
      "cell_type": "code",
      "execution_count": 4,
      "id": "9edafbfc-f8ea-4bed-aba2-8c94e2a3f268",
      "metadata": {
        "id": "9edafbfc-f8ea-4bed-aba2-8c94e2a3f268"
      },
      "outputs": [],
      "source": [
        "#This Program adds two numbers\n",
        "\n",
        "num1 = 1;\n",
        "num2=4;\n",
        "\n",
        "#Add Two Numbers\n",
        "Sum=num1+num2;\n"
      ]
    },
    {
      "cell_type": "code",
      "execution_count": 5,
      "id": "7a44dd96-6019-4ec1-99cb-ce0b253a9d20",
      "metadata": {
        "colab": {
          "base_uri": "https://localhost:8080/"
        },
        "id": "7a44dd96-6019-4ec1-99cb-ce0b253a9d20",
        "outputId": "ad7fd376-6e54-4d98-cdde-674e68664055"
      },
      "outputs": [
        {
          "output_type": "stream",
          "name": "stdout",
          "text": [
            "The Sum of 1 and 4 is 5\n"
          ]
        }
      ],
      "source": [
        "print('The Sum of {0} and {1} is {2}'.format(num1,num2,Sum))"
      ]
    },
    {
      "cell_type": "markdown",
      "source": [],
      "metadata": {
        "id": "xwa8GrMQ6k9F"
      },
      "id": "xwa8GrMQ6k9F"
    },
    {
      "cell_type": "markdown",
      "source": [
        "# Machine Learning Process\n",
        "* Loading data\n",
        "* Preprocessing\n",
        "* Training a model\n",
        "* Evaluating the Model\n",
        "* Making Predictions"
      ],
      "metadata": {
        "id": "I9_ZDsJR6ncT"
      },
      "id": "I9_ZDsJR6ncT"
    },
    {
      "cell_type": "code",
      "source": [],
      "metadata": {
        "id": "aT4857DP6zWU"
      },
      "id": "aT4857DP6zWU",
      "execution_count": null,
      "outputs": []
    }
  ],
  "metadata": {
    "kernelspec": {
      "display_name": "Python [conda env:base] *",
      "language": "python",
      "name": "conda-base-py"
    },
    "language_info": {
      "codemirror_mode": {
        "name": "ipython",
        "version": 3
      },
      "file_extension": ".py",
      "mimetype": "text/x-python",
      "name": "python",
      "nbconvert_exporter": "python",
      "pygments_lexer": "ipython3",
      "version": "3.12.7"
    },
    "colab": {
      "provenance": []
    }
  },
  "nbformat": 4,
  "nbformat_minor": 5
}