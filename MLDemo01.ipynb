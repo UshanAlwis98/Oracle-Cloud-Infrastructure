{
 "cells": [
  {
   "cell_type": "code",
   "execution_count": 2,
   "id": "9edafbfc-f8ea-4bed-aba2-8c94e2a3f268",
   "metadata": {},
   "outputs": [
    {
     "name": "stdout",
     "output_type": "stream",
     "text": [
      "5\n"
     ]
    }
   ],
   "source": [
    "#This Program adds two numbers\n",
    "\n",
    "num1 = 1;\n",
    "num2=4;\n",
    "\n",
    "#Add Two Numbers\n",
    "Sum=num1+num2;\n",
    "print(Sum);"
   ]
  },
  {
   "cell_type": "code",
   "execution_count": null,
   "id": "7a44dd96-6019-4ec1-99cb-ce0b253a9d20",
   "metadata": {},
   "outputs": [],
   "source": []
  }
 ],
 "metadata": {
  "kernelspec": {
   "display_name": "Python [conda env:base] *",
   "language": "python",
   "name": "conda-base-py"
  },
  "language_info": {
   "codemirror_mode": {
    "name": "ipython",
    "version": 3
   },
   "file_extension": ".py",
   "mimetype": "text/x-python",
   "name": "python",
   "nbconvert_exporter": "python",
   "pygments_lexer": "ipython3",
   "version": "3.12.7"
  }
 },
 "nbformat": 4,
 "nbformat_minor": 5
}
